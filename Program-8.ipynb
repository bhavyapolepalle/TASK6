{
 "cells": [
  {
   "cell_type": "code",
   "execution_count": 2,
   "metadata": {},
   "outputs": [
    {
     "name": "stdout",
     "output_type": "stream",
     "text": [
      "Minimum element in the sorted list: 7\n"
     ]
    }
   ],
   "source": [
    "def find_minimum_element(sorted_list):\n",
    "    if not sorted_list:\n",
    "        return None\n",
    "    return sorted_list[0]\n",
    "\n",
    "# Example usage:\n",
    "sorted_list = [7, 212, 13, 4, 54]\n",
    "min_element = find_minimum_element(sorted_list)\n",
    "print(\"Minimum element in the sorted list:\", min_element)"
   ]
  }
 ],
 "metadata": {
  "kernelspec": {
   "display_name": "Python 3",
   "language": "python",
   "name": "python3"
  },
  "language_info": {
   "codemirror_mode": {
    "name": "ipython",
    "version": 3
   },
   "file_extension": ".py",
   "mimetype": "text/x-python",
   "name": "python",
   "nbconvert_exporter": "python",
   "pygments_lexer": "ipython3",
   "version": "3.12.2"
  }
 },
 "nbformat": 4,
 "nbformat_minor": 2
}
