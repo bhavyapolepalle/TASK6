{
 "cells": [
  {
   "cell_type": "code",
   "execution_count": 1,
   "metadata": {},
   "outputs": [
    {
     "name": "stdout",
     "output_type": "stream",
     "text": [
      "There is a sublist with sum equal to zero.\n"
     ]
    }
   ],
   "source": [
    "def sublist_with_zero(lst):\n",
    "    n = len(lst)\n",
    "    for i in range(n):\n",
    "        current_sum = 0\n",
    "        for j in range(i, n):\n",
    "            current_sum += lst[j]\n",
    "            if current_sum == 0:\n",
    "                return True\n",
    "    return False\n",
    "given_list = [4, 2, -3, 1, 6]\n",
    "if sublist_with_zero(given_list):\n",
    "    print(\"There is a sublist with sum equal to zero.\")\n",
    "else:\n",
    "    print(\"There is no sublist with sum equal to zero.\")"
   ]
  }
 ],
 "metadata": {
  "kernelspec": {
   "display_name": "Python 3",
   "language": "python",
   "name": "python3"
  },
  "language_info": {
   "codemirror_mode": {
    "name": "ipython",
    "version": 3
   },
   "file_extension": ".py",
   "mimetype": "text/x-python",
   "name": "python",
   "nbconvert_exporter": "python",
   "pygments_lexer": "ipython3",
   "version": "3.12.2"
  }
 },
 "nbformat": 4,
 "nbformat_minor": 2
}
