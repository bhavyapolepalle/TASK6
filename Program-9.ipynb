{
 "cells": [
  {
   "cell_type": "code",
   "execution_count": 5,
   "metadata": {},
   "outputs": [
    {
     "name": "stdout",
     "output_type": "stream",
     "text": [
      "Triplet with sum 60 : [10, 20, 30]\n"
     ]
    }
   ],
   "source": [
    "def find_triplet(lst, target_sum):\n",
    "    n = len(lst)\n",
    "    for i in range(n - 2):\n",
    "        for j in range(i + 1, n - 1):\n",
    "            for k in range(j + 1, n):\n",
    "                if lst[i] + lst[j] + lst[k] == target_sum:\n",
    "                    return [lst[i], lst[j], lst[k]]\n",
    "    return None\n",
    "\n",
    "# Example usage:\n",
    "given_list = [10, 20, 30, 9]\n",
    "target_value = 59\n",
    "result = find_triplet(given_list, target_value)\n",
    "if result:\n",
    "    print(\"Triplet with sum\", target_value, \":\", result)\n",
    "else:\n",
    "    print(\"No triplet found with sum\", target_value)"
   ]
  }
 ],
 "metadata": {
  "kernelspec": {
   "display_name": "Python 3",
   "language": "python",
   "name": "python3"
  },
  "language_info": {
   "codemirror_mode": {
    "name": "ipython",
    "version": 3
   },
   "file_extension": ".py",
   "mimetype": "text/x-python",
   "name": "python",
   "nbconvert_exporter": "python",
   "pygments_lexer": "ipython3",
   "version": "3.12.2"
  }
 },
 "nbformat": 4,
 "nbformat_minor": 2
}
