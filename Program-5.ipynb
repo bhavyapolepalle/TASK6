{
 "cells": [
  {
   "cell_type": "code",
   "execution_count": 4,
   "metadata": {},
   "outputs": [
    {
     "name": "stdout",
     "output_type": "stream",
     "text": [
      "Minimum difference between bags given to students: 3\n"
     ]
    }
   ],
   "source": [
    "def min_difference_mangoes_distribution(mangoes, num_students):\n",
    "    # Sort the list of mangoes\n",
    "    mangoes.sort()\n",
    "    \n",
    "    min_difference = float('inf')\n",
    "    \n",
    "    # Iterate through the mangoes list\n",
    "    for i in range(len(mangoes) - num_students + 1):\n",
    "        difference = mangoes[i + num_students - 1] - mangoes[i]\n",
    "        min_difference = min(min_difference, difference)\n",
    "    \n",
    "    return min_difference\n",
    "\n",
    "result = min_difference_mangoes_distribution(mangoes_list, num_students)\n",
    "print(\"Minimum difference between bags given to students:\", result)"
   ]
  }
 ],
 "metadata": {
  "kernelspec": {
   "display_name": "Python 3",
   "language": "python",
   "name": "python3"
  },
  "language_info": {
   "codemirror_mode": {
    "name": "ipython",
    "version": 3
   },
   "file_extension": ".py",
   "mimetype": "text/x-python",
   "name": "python",
   "nbconvert_exporter": "python",
   "pygments_lexer": "ipython3",
   "version": "3.12.2"
  }
 },
 "nbformat": 4,
 "nbformat_minor": 2
}
