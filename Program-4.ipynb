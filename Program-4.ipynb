{
 "cells": [
  {
   "cell_type": "code",
   "execution_count": 3,
   "metadata": {},
   "outputs": [
    {
     "name": "stdout",
     "output_type": "stream",
     "text": [
      "The sum of the first and last digits of 56566565 is: 10\n"
     ]
    }
   ],
   "source": [
    "def sum_first_last_digit(number):\n",
    "    # Convert number to string to easily access first and last digits\n",
    "    number_str = str(number)\n",
    "    \n",
    "    # Extract the first and last digits\n",
    "    first_digit = int(number_str[0])\n",
    "    last_digit = int(number_str[-1])\n",
    "    \n",
    "    # Calculate and return the sum of the first and last digits\n",
    "    return first_digit + last_digit\n",
    "\n",
    "# Test the function with an example integer\n",
    "number = 56566565\n",
    "result = sum_first_last_digit(number)\n",
    "print(\"The sum of the first and last digits of\", number, \"is:\", result)"
   ]
  }
 ],
 "metadata": {
  "kernelspec": {
   "display_name": "Python 3",
   "language": "python",
   "name": "python3"
  },
  "language_info": {
   "codemirror_mode": {
    "name": "ipython",
    "version": 3
   },
   "file_extension": ".py",
   "mimetype": "text/x-python",
   "name": "python",
   "nbconvert_exporter": "python",
   "pygments_lexer": "ipython3",
   "version": "3.12.2"
  }
 },
 "nbformat": 4,
 "nbformat_minor": 2
}
