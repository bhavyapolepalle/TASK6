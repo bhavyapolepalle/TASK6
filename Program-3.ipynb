{
 "cells": [
  {
   "cell_type": "code",
   "execution_count": 4,
   "metadata": {},
   "outputs": [
    {
     "name": "stdout",
     "output_type": "stream",
     "text": [
      "Number of happy numbers: 2\n"
     ]
    }
   ],
   "source": [
    "def is_happy(numbers):\n",
    "    seen = set()\n",
    "    while numbers != 1 and numbers not in seen:\n",
    "        seen.add(numbers)\n",
    "        numbers = sum(int(digit)**2 for digit in str(numbers))\n",
    "    return numbers == 1\n",
    "\n",
    "original_list = [10, 501, 22, 37, 100, 999, 87, 351]\n",
    "\n",
    "# Count happy numbers\n",
    "happy_count = sum(1 for numbers in original_list if is_happy(numbers))\n",
    "\n",
    "print(\"Number of happy numbers:\", happy_count)"
   ]
  }
 ],
 "metadata": {
  "kernelspec": {
   "display_name": "Python 3",
   "language": "python",
   "name": "python3"
  },
  "language_info": {
   "codemirror_mode": {
    "name": "ipython",
    "version": 3
   },
   "file_extension": ".py",
   "mimetype": "text/x-python",
   "name": "python",
   "nbconvert_exporter": "python",
   "pygments_lexer": "ipython3",
   "version": "3.12.2"
  }
 },
 "nbformat": 4,
 "nbformat_minor": 2
}
