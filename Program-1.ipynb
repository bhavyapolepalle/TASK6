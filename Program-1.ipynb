{
 "cells": [
  {
   "cell_type": "code",
   "execution_count": 2,
   "metadata": {},
   "outputs": [
    {
     "name": "stdout",
     "output_type": "stream",
     "text": [
      "Even numbers: [10, 22, 100]\n",
      "Odd numbers: [501, 37, 999, 87, 351]\n"
     ]
    }
   ],
   "source": [
    "def_list = [10, 501, 22, 37, 100, 999, 87, 351]\n",
    "\n",
    "# List to filter even numbers\n",
    "even_numbers = [num for num in def_list if num % 2 == 0]\n",
    "\n",
    "# List to filter odd numbers\n",
    "odd_numbers = [num for num in def_list if num % 2 != 0]\n",
    "\n",
    "print(\"Even numbers:\", even_numbers)\n",
    "print(\"Odd numbers:\", odd_numbers)"
   ]
  }
 ],
 "metadata": {
  "kernelspec": {
   "display_name": "Python 3",
   "language": "python",
   "name": "python3"
  },
  "language_info": {
   "codemirror_mode": {
    "name": "ipython",
    "version": 3
   },
   "file_extension": ".py",
   "mimetype": "text/x-python",
   "name": "python",
   "nbconvert_exporter": "python",
   "pygments_lexer": "ipython3",
   "version": "3.12.2"
  }
 },
 "nbformat": 4,
 "nbformat_minor": 2
}
