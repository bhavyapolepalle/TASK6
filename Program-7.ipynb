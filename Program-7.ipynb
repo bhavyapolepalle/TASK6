{
 "cells": [
  {
   "cell_type": "code",
   "execution_count": 2,
   "metadata": {},
   "outputs": [
    {
     "name": "stdout",
     "output_type": "stream",
     "text": [
      "First non-repeating element: 3\n"
     ]
    }
   ],
   "source": [
    "def first_non_repeating_element(lst):\n",
    "\n",
    "    count_dict = {}\n",
    "    for item in lst:\n",
    "        if item in count_dict:\n",
    "            count_dict[item] += 1\n",
    "        else:\n",
    "            count_dict[item] = 1\n",
    "    \n",
    "    # Find the first element with count 1\n",
    "    for item in lst:\n",
    "        if count_dict[item] == 1:\n",
    "            return item\n",
    "    \n",
    "    # If no non-repeating element found, return None\n",
    "    return None\n",
    "\n",
    "# Example usage:\n",
    "given_list = [1, 2, 3, 2, 1, 4, 5, 4]\n",
    "result = first_non_repeating_element(given_list)\n",
    "print(\"First non-repeating element:\", result)"
   ]
  }
 ],
 "metadata": {
  "kernelspec": {
   "display_name": "Python 3",
   "language": "python",
   "name": "python3"
  },
  "language_info": {
   "codemirror_mode": {
    "name": "ipython",
    "version": 3
   },
   "file_extension": ".py",
   "mimetype": "text/x-python",
   "name": "python",
   "nbconvert_exporter": "python",
   "pygments_lexer": "ipython3",
   "version": "3.12.2"
  }
 },
 "nbformat": 4,
 "nbformat_minor": 2
}
