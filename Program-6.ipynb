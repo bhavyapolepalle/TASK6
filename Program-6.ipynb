{
 "cells": [
  {
   "cell_type": "code",
   "execution_count": null,
   "metadata": {},
   "outputs": [],
   "source": [
    "def find_duplicates(list1, list2, list3):\n",
    "    # Convert lists to sets\n",
    "    set1 = set(list1)\n",
    "    set2 = set(list2)\n",
    "    set3 = set(list3)\n",
    "    \n",
    "    # Find the intersection of the sets\n",
    "    duplicates = set1.intersection(set2, set3)\n",
    "    \n",
    "    return list(duplicates)\n",
    "\n",
    "result = find_duplicates(list1, list2, list3)\n",
    "print(\"Duplicates in the three lists:\", result)"
   ]
  }
 ],
 "metadata": {
  "language_info": {
   "name": "python"
  }
 },
 "nbformat": 4,
 "nbformat_minor": 2
}
